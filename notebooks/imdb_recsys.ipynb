{
 "cells": [
  {
   "cell_type": "markdown",
   "metadata": {},
   "source": [
    "# Import Libraries"
   ]
  },
  {
   "cell_type": "code",
   "execution_count": 1,
   "metadata": {},
   "outputs": [],
   "source": [
    "import pandas as pd\n",
    "import numpy as np\n",
    "from sklearn.metrics.pairwise import cosine_similarity\n",
    "import pickle"
   ]
  },
  {
   "cell_type": "markdown",
   "metadata": {},
   "source": [
    "# Define the Content based Recommendation class which uses cosine similarity to find the similarity between 2 movies. Based on the similaity score top n movies are recommended"
   ]
  },
  {
   "cell_type": "code",
   "execution_count": 2,
   "metadata": {},
   "outputs": [],
   "source": [
    "def transpose_set(x,col_name):\n",
    "    values = x[col_name]\n",
    "    for value in values:\n",
    "        x[value] = 1\n",
    "    return x\n",
    "\n",
    "def transpose_value(x,col_name):\n",
    "    value = str(x[col_name])\n",
    "    x[value] = 1\n",
    "    return x\n",
    "\n",
    "class ImdbRecSys(object):\n",
    "    \n",
    "    def __init__(self,matrix,movie_names):\n",
    "        self.matrix = matrix\n",
    "        self.movie_names = movie_names\n",
    "        \n",
    "    def save(self,path):\n",
    "        with open(path+'/matrix.pkl', 'wb') as handle:\n",
    "            pickle.dump(self.matrix, handle, protocol=pickle.HIGHEST_PROTOCOL)\n",
    "        with open(path+'/movie_names.pkl', 'wb') as handle:\n",
    "            pickle.dump(self.movie_names, handle, protocol=pickle.HIGHEST_PROTOCOL)\n",
    "    \n",
    "    @classmethod\n",
    "    def load(cls, path):\n",
    "        with open(path+'/matrix.pkl', 'rb') as handle:\n",
    "            matrix = pickle.load(handle)\n",
    "        with open(path+'/movie_names.pkl', 'rb') as handle:\n",
    "            movie_names = pickle.load(handle)\n",
    "            \n",
    "        return ImdbRecSys(matrix=matrix,movie_names=movie_names)\n",
    "            \n",
    "            \n",
    "    @classmethod\n",
    "    def train(cls,path):\n",
    "        \n",
    "        #The crawled data of top 250 movies are loaded in pandas dataframe for further processing\n",
    "        dataframe = pd.read_json(path)\n",
    "        \n",
    "        # movie names are seperately cached for O(1) access of the data during prediction\n",
    "        movie_names = np.array(dataframe['movie_name'])\n",
    "        \n",
    "        # Create OnehotEncoder representation for columns ['actors','writers',\n",
    "        # 'genres','director','movie_year','keywords']\n",
    "        \n",
    "        res = dataframe.apply(transpose_set,1,args=(['actors'])).\\\n",
    "                            apply(transpose_set,1,args=(['writers'])).\\\n",
    "                            apply(transpose_set,1,args=(['keywords'])).\\\n",
    "                            apply(transpose_value,1,args=(['director'])).\\\n",
    "                            apply(transpose_value,1,args=(['movie_year'])).\\\n",
    "                            apply(transpose_set,1,args=(['genres']))\n",
    "                            \n",
    "        # Remove the categorical columns from the dataframe as the information is encoded as Onehotencoder\n",
    "        res.drop(labels=['actors','writers','genres','director','movie_year','movie_name','keywords'],axis=1,inplace=True)\n",
    "        \n",
    "        # Scale the values of continuous columns\n",
    "        res[['critic_count','rating','user_count']] /= res[['critic_count','rating','user_count']].max()\n",
    "        \n",
    "        #For onehotcode representation fill the nan values by 0.0\n",
    "        res.fillna(value=0.0,inplace=True)\n",
    "        \n",
    "        # Use Scikit-Learn cosine similarity to calculate the distance\n",
    "        similarity_matrix = cosine_similarity(res)\n",
    "        \n",
    "        # Initialize the ImdbRecSys object with the values of the similarity matrix and the movie names as nparray\n",
    "        return ImdbRecSys(matrix=similarity_matrix,movie_names=movie_names)\n",
    "        \n",
    "        \n",
    "    \n",
    "    def predict(self,query,top_n=10):\n",
    "        # get the movie index from the query\n",
    "        movie_ix = np.where(np.in1d(self.movie_names, query))[0]\n",
    "        \n",
    "        # get the relevant rows from the similarity matrix\n",
    "        matrix_rows = self.matrix[movie_ix,:]\n",
    "        if matrix_rows.shape[0]==0:\n",
    "            return np.array(['one or more than one movies are not found'])\n",
    "        \n",
    "        # in case there are more than one movies calculate the mean of \n",
    "        # the similarity scores for each of the candidate movies\n",
    "        rows_mean = matrix_rows.mean(axis=0)\n",
    "        \n",
    "        # sort the movie indices based on the increasing order of the similarity score\n",
    "        top_movie_ix = np.argsort(rows_mean)\n",
    "        \n",
    "        # remove the movie indices of the query and select top 10 movies\n",
    "        ix = np.where(np.in1d(top_movie_ix, movie_ix))[0]\n",
    "        top_movie_ix=np.delete(top_movie_ix,ix)\n",
    "        \n",
    "        # taking top_n movie indices based on similarity score\n",
    "        top_n_movie_ix = np.flip(top_movie_ix,axis=0)[:top_n]\n",
    "        \n",
    "        return self.movie_names[top_n_movie_ix]\n",
    "    \n",
    "    "
   ]
  },
  {
   "cell_type": "markdown",
   "metadata": {},
   "source": [
    "# Train the model by feeding 250 imdb movie data"
   ]
  },
  {
   "cell_type": "code",
   "execution_count": 3,
   "metadata": {},
   "outputs": [],
   "source": [
    "rec_sys1 = ImdbRecSys.train(path=\"../rec_platform/data/imdb_data.json\")"
   ]
  },
  {
   "cell_type": "code",
   "execution_count": 4,
   "metadata": {},
   "outputs": [],
   "source": [
    "rec_sys1.save(path = \"../rec_platform/data/\")"
   ]
  },
  {
   "cell_type": "code",
   "execution_count": 5,
   "metadata": {},
   "outputs": [],
   "source": [
    "rec_sys = ImdbRecSys.load(path = \"../rec_platform/data/\")"
   ]
  },
  {
   "cell_type": "markdown",
   "metadata": {},
   "source": [
    "# Get recommendation for a Single Movie in the descending order of similarity score"
   ]
  },
  {
   "cell_type": "code",
   "execution_count": 6,
   "metadata": {},
   "outputs": [
    {
     "data": {
      "text/plain": [
       "array(['The Green Mile', 'Pulp Fiction', 'American History X', 'Léon',\n",
       "       'Eskiya', 'Se7en', 'Cool Hand Luke', 'The Dark Knight',\n",
       "       'The Godfather', 'The Shining'], dtype=object)"
      ]
     },
     "execution_count": 6,
     "metadata": {},
     "output_type": "execute_result"
    }
   ],
   "source": [
    "query = ['The Shawshank Redemption']\n",
    "rec_sys.predict(query=query)"
   ]
  },
  {
   "cell_type": "markdown",
   "metadata": {},
   "source": [
    "# Get recommendation for a list of Movies in the descending order of similarity score"
   ]
  },
  {
   "cell_type": "code",
   "execution_count": 7,
   "metadata": {},
   "outputs": [
    {
     "data": {
      "text/plain": [
       "array(['The Godfather: Part II', 'Eskiya', 'Heat',\n",
       "       'The Shawshank Redemption', 'M', 'Goodfellas', 'Dog Day Afternoon',\n",
       "       'On the Waterfront', 'The Silence of the Lambs',\n",
       "       'American History X'], dtype=object)"
      ]
     },
     "execution_count": 7,
     "metadata": {},
     "output_type": "execute_result"
    }
   ],
   "source": [
    "queries = ['The Godfather', 'The Dark Knight', 'Cool Hand Luke']\n",
    "rec_sys.predict(query=queries)"
   ]
  },
  {
   "cell_type": "code",
   "execution_count": null,
   "metadata": {},
   "outputs": [],
   "source": []
  }
 ],
 "metadata": {
  "kernelspec": {
   "display_name": "Python 3",
   "language": "python",
   "name": "python3"
  },
  "language_info": {
   "codemirror_mode": {
    "name": "ipython",
    "version": 3
   },
   "file_extension": ".py",
   "mimetype": "text/x-python",
   "name": "python",
   "nbconvert_exporter": "python",
   "pygments_lexer": "ipython3",
   "version": "3.6.2"
  }
 },
 "nbformat": 4,
 "nbformat_minor": 2
}
